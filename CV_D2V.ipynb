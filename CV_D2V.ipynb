{
  "nbformat": 4,
  "nbformat_minor": 0,
  "metadata": {
    "colab": {
      "name": "Felip_CNN.ipynb",
      "provenance": [],
      "collapsed_sections": [],
      "toc_visible": true
    },
    "kernelspec": {
      "name": "python3",
      "display_name": "Python 3"
    },
    "accelerator": "GPU"
  },
  "cells": [
    {
      "cell_type": "markdown",
      "metadata": {
        "id": "tFv7TBoKu3Jx",
        "colab_type": "text"
      },
      "source": [
        "##CNN-LSTM approach"
      ]
    },
    {
      "cell_type": "code",
      "metadata": {
        "id": "2Hrq03D_dHwA",
        "colab_type": "code",
        "outputId": "e462babb-0fde-497d-cb1d-2d927f4d2e69",
        "colab": {
          "base_uri": "https://localhost:8080/",
          "height": 80
        }
      },
      "source": [
        "from sklearn import metrics\n",
        "from random import shuffle\n",
        "from collections import defaultdict\n",
        "from tqdm import tqdm_notebook as tqdm\n",
        "from gensim.models import Word2Vec, Doc2Vec\n",
        "from gensim.models.doc2vec import LabeledSentence\n",
        "from sklearn.linear_model import LogisticRegression\n",
        "from sklearn.neighbors import KNeighborsClassifier\n",
        "from sklearn.naive_bayes import GaussianNB\n",
        "from sklearn.svm import LinearSVC \n",
        "from keras.models import load_model\n",
        "import matplotlib.pyplot as plt\n",
        "import seaborn as sns\n",
        "import  numpy as np\n",
        "from matplotlib import pyplot as plt\n",
        "import spacy\n",
        "import os\n",
        "import warnings\n",
        "warnings.filterwarnings(\"ignore\")"
      ],
      "execution_count": 0,
      "outputs": [
        {
          "output_type": "stream",
          "text": [
            "Using TensorFlow backend.\n"
          ],
          "name": "stderr"
        },
        {
          "output_type": "display_data",
          "data": {
            "text/html": [
              "<p style=\"color: red;\">\n",
              "The default version of TensorFlow in Colab will soon switch to TensorFlow 2.x.<br>\n",
              "We recommend you <a href=\"https://www.tensorflow.org/guide/migrate\" target=\"_blank\">upgrade</a> now \n",
              "or ensure your notebook will continue to use TensorFlow 1.x via the <code>%tensorflow_version 1.x</code> magic:\n",
              "<a href=\"https://colab.research.google.com/notebooks/tensorflow_version.ipynb\" target=\"_blank\">more info</a>.</p>\n"
            ],
            "text/plain": [
              "<IPython.core.display.HTML object>"
            ]
          },
          "metadata": {
            "tags": []
          }
        }
      ]
    },
    {
      "cell_type": "code",
      "metadata": {
        "id": "sUAat5iOdK_P",
        "colab_type": "code",
        "colab": {}
      },
      "source": [
        "path_data = 'tweet_data.txt'"
      ],
      "execution_count": 0,
      "outputs": []
    },
    {
      "cell_type": "code",
      "metadata": {
        "id": "NAET5V_IdXGA",
        "colab_type": "code",
        "colab": {}
      },
      "source": [
        "labeled_tweets = []\n",
        "with open(path_data,'r', encoding='utf-8') as f:\n",
        "    for tweet in f:\n",
        "        t  = tweet.split(\" \")\n",
        "        labeled_tweets.append((t[0],t[1:]))\n",
        "shuffle(labeled_tweets)\n",
        "tweets = [x for _,x in labeled_tweets]\n",
        "labels = [y for y,_ in labeled_tweets]"
      ],
      "execution_count": 0,
      "outputs": []
    },
    {
      "cell_type": "code",
      "metadata": {
        "id": "51EThfqbb1cj",
        "colab_type": "code",
        "colab": {}
      },
      "source": [
        "from gensim.models import Word2Vec, Doc2Vec\n",
        "from gensim.models.doc2vec import LabeledSentence\n",
        "vector_size = 200\n",
        "def train_model(data):\n",
        "    print('Training Doc2Vec model...')\n",
        "    epochs = 15\n",
        "    model = Doc2Vec(min_count=3, window=2, size=vector_size)\n",
        "    model.build_vocab(data)\n",
        "    model.train(data,total_examples=model.corpus_count,epochs=epochs)\n",
        "    return model"
      ],
      "execution_count": 0,
      "outputs": []
    },
    {
      "cell_type": "code",
      "metadata": {
        "id": "vJE0HTMzddGP",
        "colab_type": "code",
        "outputId": "49108e0b-66e3-473e-d824-235da69a6b26",
        "colab": {
          "base_uri": "https://localhost:8080/",
          "height": 408
        }
      },
      "source": [
        "print('Generating cross-folds...')\n",
        "split_ratio = (0.8,0.1,0.1) #Train,Dev,Test\n",
        "cross_folds = int((1-split_ratio[0])**(-1))\n",
        "print(f'Using {cross_folds} crossfolds...')\n",
        "assert sum(split_ratio) == 1\n",
        "cross_fold_items = []\n",
        "print('Training classifiers...')\n",
        "for i in range(cross_folds):\n",
        "    size = len(tweets)\n",
        "    k1 = i*int(size*split_ratio[1])\n",
        "    k2 = k1+int(size*split_ratio[1])\n",
        "    k3 = k2+int(size*split_ratio[2])\n",
        "\n",
        "    trainD = list(enumerate(tweets[k3:] + tweets[:k1]))\n",
        "    testD = list(enumerate(tweets[k1:k2]))\n",
        "    devD = list(enumerate(tweets[k2:k3]))\n",
        "    print('Generating training data...')\n",
        "    model_train = train_model([LabeledSentence(tweet,[str(id_)]) for id_,tweet in trainD])\n",
        "    training_data = np.vstack(model_train[str(id_)] for id_,_ in trainD)\n",
        "    training_labels = np.hstack(label for label in labels[k3:] + labels[:k1])\n",
        "    print('Generating test data...')\n",
        "    model_test =  [model_train.infer_vector(tweet) for id_,tweet in testD]      \n",
        "    test_data = np.vstack(model_test[id_] for id_,_ in testD)\n",
        "    test_labels = np.hstack(label for label in labels[k1:k2])\n",
        "    print('Generating dev data...')\n",
        "    model_dev =  [model_train.infer_vector(tweet) for id_,tweet in devD]    \n",
        "    dev_data = np.vstack(model_dev[id_] for id_,_ in devD)\n",
        "    dev_labels = np.hstack(label for label in labels[k2:k3])\n",
        "    cross_fold_items.append((training_data,training_labels,test_data,test_labels,dev_data,dev_labels,model_train,model_test,model_dev))\n",
        "    assert len(test_data) + len(training_data) + len(dev_data) == size"
      ],
      "execution_count": 0,
      "outputs": [
        {
          "output_type": "stream",
          "text": [
            "Generating cross-folds...\n",
            "Using 5 crossfolds...\n",
            "Training classifiers...\n",
            "Generating training data...\n",
            "Training Doc2Vec model...\n",
            "Generating test data...\n",
            "Generating dev data...\n",
            "Generating training data...\n",
            "Training Doc2Vec model...\n",
            "Generating test data...\n",
            "Generating dev data...\n",
            "Generating training data...\n",
            "Training Doc2Vec model...\n",
            "Generating test data...\n",
            "Generating dev data...\n",
            "Generating training data...\n",
            "Training Doc2Vec model...\n",
            "Generating test data...\n",
            "Generating dev data...\n",
            "Generating training data...\n",
            "Training Doc2Vec model...\n",
            "Generating test data...\n",
            "Generating dev data...\n"
          ],
          "name": "stdout"
        }
      ]
    },
    {
      "cell_type": "code",
      "metadata": {
        "id": "_3fZjhvuub-F",
        "colab_type": "code",
        "colab": {}
      },
      "source": [
        "# inspired by https://github.com/mihirahlawat/Sentiment-Analysis\n",
        "# BB_twtr at SemEval-2017 Task 4: Twitter Sentiment Analysis with CNNs and LSTMs\n",
        "\n",
        "from keras.layers import Embedding\n",
        "from keras.models import Sequential, Model\n",
        "from keras.layers import Dense, Activation\n",
        "from keras.layers import Flatten, Conv1D, SpatialDropout1D, MaxPooling1D, AveragePooling1D, Bidirectional, merge, concatenate, Input, Dropout, LSTM\n",
        "\n",
        "def model(x_dim,y_dim, num_filters=200, filter_sizes=[3,4,5], pool_padding='valid', dropout=0.1):\n",
        "    pooled_outputs = []\n",
        "    embed_input = Input(shape=(vector_size,1))\n",
        "    for i in range(len(filter_sizes)):\n",
        "        conv = Conv1D(num_filters, kernel_size=filter_sizes[i], padding=pool_padding, activation='relu')(embed_input)\n",
        "        conv = AveragePooling1D(pool_size=x_dim-filter_sizes[i]+1)(conv)           \n",
        "        pooled_outputs.append(conv)\n",
        "    merge = concatenate(pooled_outputs)\n",
        "    \n",
        "    x = Dense(30, activation='relu')(merge)\n",
        "    x = Dropout(dropout)(x)\n",
        "    x = Bidirectional(LSTM(100, return_sequences=True, dropout=dropout, recurrent_dropout=dropout))(x)\n",
        "    x = Dense(30, activation='relu')(x)\n",
        "    x = Dropout(dropout)(x)\n",
        "    x = Flatten()(x)\n",
        "    x = Dense(y_dim, activation='softmax')(x)\n",
        "\n",
        "    model = Model(inputs=embed_input,outputs=x)   \n",
        "    return model"
      ],
      "execution_count": 0,
      "outputs": []
    },
    {
      "cell_type": "code",
      "metadata": {
        "id": "yIJSeKoN7M9k",
        "colab_type": "code",
        "colab": {}
      },
      "source": [
        "from keras import backend as K\n",
        "import tensorflow as tf\n",
        "\n",
        "def recall_m(y_true, y_pred):\n",
        "        true_positives = K.sum(K.round(K.clip(y_true * y_pred, 0, 1)))\n",
        "        possible_positives = K.sum(K.round(K.clip(y_true, 0, 1)))\n",
        "        recall = true_positives / (possible_positives + K.epsilon())\n",
        "        return recall\n",
        "\n",
        "def precision_m(y_true, y_pred):\n",
        "        true_positives = K.sum(K.round(K.clip(y_true * y_pred, 0, 1)))\n",
        "        predicted_positives = K.sum(K.round(K.clip(y_pred, 0, 1)))\n",
        "        precision = true_positives / (predicted_positives + K.epsilon())\n",
        "        return precision\n",
        "\n",
        "def f1_m(y_true, y_pred):\n",
        "    precision = precision_m(y_true, y_pred)\n",
        "    recall = recall_m(y_true, y_pred)\n",
        "    return 2*((precision*recall)/(precision+recall+K.epsilon()))\n",
        "\n",
        "def f1_loss(y_true, y_pred):\n",
        "    \n",
        "    tp = K.sum(K.cast(y_true*y_pred, 'float'), axis=0)\n",
        "    tn = K.sum(K.cast((1-y_true)*(1-y_pred), 'float'), axis=0)\n",
        "    fp = K.sum(K.cast((1-y_true)*y_pred, 'float'), axis=0)\n",
        "    fn = K.sum(K.cast(y_true*(1-y_pred), 'float'), axis=0)\n",
        "\n",
        "    p = tp / (tp + fp + K.epsilon())\n",
        "    r = tp / (tp + fn + K.epsilon())\n",
        "\n",
        "    f1 = 2*p*r / (p+r+K.epsilon())\n",
        "    f1 = tf.where(tf.is_nan(f1), tf.zeros_like(f1), f1)\n",
        "    return 1 - K.mean(f1)\n",
        "  "
      ],
      "execution_count": 0,
      "outputs": []
    },
    {
      "cell_type": "code",
      "metadata": {
        "id": "btA-2yMu9-UY",
        "colab_type": "code",
        "colab": {}
      },
      "source": [
        "from keras.callbacks import EarlyStopping, ModelCheckpoint, ReduceLROnPlateau\n",
        "from sklearn.model_selection import train_test_split\n",
        "from keras.utils import to_categorical\n",
        "from keras.preprocessing.text import one_hot\n",
        "import numpy as np\n",
        "\n",
        "from tensorflow.python.client import device_lib\n",
        "K.tensorflow_backend._get_available_gpus()\n",
        "def CNN_Model(training_data,training_labels,test_data,test_labels,dev_data,dev_labels,model_train,model_test,model_dev):\n",
        "  training_labels = np.array([[1,0,0] if 'p'in label else [0,1,0] if 'neut' in label else  [0,0,1] for label in training_labels])\n",
        "  test_labels = np.array([[1,0,0] if 'p'in label else [0,1,0] if 'neut'in label else  [0,0,1] for label in test_labels])\n",
        "  dev_labels = np.array([[1,0,0] if 'p'in label else [0,1,0] if 'neut'in label else  [0,0,1] for label in dev_labels])\n",
        "  mdl = model(vector_size, y_dim=3,filter_sizes = [3,4,5], dropout=0.1)\n",
        "  mdl.compile(loss=f1_loss, \n",
        "              optimizer='adam', \n",
        "              metrics=['acc',f1_m,precision_m, recall_m])\n",
        "\n",
        "  batch_size = 32\n",
        "  num_epochs = 50\n",
        "\n",
        "  earlyStopping = EarlyStopping(monitor='val_loss', patience=5, verbose=0, mode='min')\n",
        "  mcp_save = ModelCheckpoint('saved_model.h5', verbose=0, monitor='val_loss',save_best_only=True, mode='min')\n",
        "  reduce_lr_loss = ReduceLROnPlateau(monitor='val_loss', factor=0.1, patience=7, verbose=0, epsilon=1e-4, mode='min')\n",
        "\n",
        "  training_data = training_data.reshape(-1,vector_size,1)\n",
        "  test_data = test_data.reshape(-1,vector_size,1)\n",
        "  dev_data = dev_data.reshape(-1,vector_size,1)\n",
        "  history = mdl.fit(training_data, training_labels, validation_data=(dev_data, dev_labels), batch_size=batch_size, epochs=num_epochs, \n",
        "                    callbacks=[mcp_save],verbose=1)\n",
        "  loss, acc, f1, prec, rec = mdl.evaluate(test_data, test_labels)\n",
        "  print(\"loss: {}, accuracy: {}, f1-score: {}, precision: {}, recall: {}\".format(round(loss,4), round(acc,4), round(f1,4), round(prec,4), round(rec,4)))\n",
        "  return loss, acc, f1, prec, rec"
      ],
      "execution_count": 0,
      "outputs": []
    },
    {
      "cell_type": "code",
      "metadata": {
        "id": "_u7Bn68Ddlwr",
        "colab_type": "code",
        "outputId": "847f971b-862a-415d-9137-154be2d910ea",
        "colab": {
          "base_uri": "https://localhost:8080/",
          "height": 1000
        }
      },
      "source": [
        "print('Classifiers...')\n",
        "lossT, accT, f1T, precT, recT = 0,0,0,0,0\n",
        "for i in range(cross_folds):\n",
        "    print('#'*35)\n",
        "    training_data,training_labels,test_data,test_labels,dev_data,dev_labels,model_train,model_test,model_dev = cross_fold_items[i]\n",
        "    loss, acc, f1, prec, rec = CNN_Model(training_data,training_labels,test_data,test_labels,dev_data,dev_labels,model_train,model_test,model_dev)\n",
        "    lossT += loss\n",
        "    accT += acc\n",
        "    f1T += f1\n",
        "    precT += prec\n",
        "    recT += rec\n",
        "print('='*10)\n",
        "lossT, accT, f1T, precT, recT = lossT/cross_folds, accT/cross_folds, f1T/cross_folds, precT/cross_folds, recT/cross_folds\n",
        "print(\"loss: {}, accuracy: {}, f1-score: {}, precision: {}, recall: {}\".format(round(lossT,4), round(accT,4), round(f1T,4), round(precT,4), round(recT,4)))"
      ],
      "execution_count": 0,
      "outputs": [
        {
          "output_type": "stream",
          "text": [
            "Classifiers...\n",
            "###################################\n",
            "WARNING:tensorflow:From /usr/local/lib/python3.6/dist-packages/keras/backend/tensorflow_backend.py:66: The name tf.get_default_graph is deprecated. Please use tf.compat.v1.get_default_graph instead.\n",
            "\n",
            "WARNING:tensorflow:From /usr/local/lib/python3.6/dist-packages/keras/backend/tensorflow_backend.py:541: The name tf.placeholder is deprecated. Please use tf.compat.v1.placeholder instead.\n",
            "\n",
            "WARNING:tensorflow:From /usr/local/lib/python3.6/dist-packages/keras/backend/tensorflow_backend.py:4432: The name tf.random_uniform is deprecated. Please use tf.random.uniform instead.\n",
            "\n",
            "WARNING:tensorflow:From /usr/local/lib/python3.6/dist-packages/keras/backend/tensorflow_backend.py:4271: The name tf.nn.avg_pool is deprecated. Please use tf.nn.avg_pool2d instead.\n",
            "\n",
            "WARNING:tensorflow:From /usr/local/lib/python3.6/dist-packages/keras/backend/tensorflow_backend.py:148: The name tf.placeholder_with_default is deprecated. Please use tf.compat.v1.placeholder_with_default instead.\n",
            "\n",
            "WARNING:tensorflow:From /usr/local/lib/python3.6/dist-packages/keras/backend/tensorflow_backend.py:3733: calling dropout (from tensorflow.python.ops.nn_ops) with keep_prob is deprecated and will be removed in a future version.\n",
            "Instructions for updating:\n",
            "Please use `rate` instead of `keep_prob`. Rate should be set to `rate = 1 - keep_prob`.\n",
            "WARNING:tensorflow:From /usr/local/lib/python3.6/dist-packages/keras/optimizers.py:793: The name tf.train.Optimizer is deprecated. Please use tf.compat.v1.train.Optimizer instead.\n",
            "\n",
            "WARNING:tensorflow:From <ipython-input-12-4bb2127d3019>:32: where (from tensorflow.python.ops.array_ops) is deprecated and will be removed in a future version.\n",
            "Instructions for updating:\n",
            "Use tf.where in 2.0, which has the same broadcast rule as np.where\n",
            "WARNING:tensorflow:From /usr/local/lib/python3.6/dist-packages/keras/backend/tensorflow_backend.py:1033: The name tf.assign_add is deprecated. Please use tf.compat.v1.assign_add instead.\n",
            "\n",
            "WARNING:tensorflow:From /usr/local/lib/python3.6/dist-packages/keras/backend/tensorflow_backend.py:1020: The name tf.assign is deprecated. Please use tf.compat.v1.assign instead.\n",
            "\n",
            "Train on 40267 samples, validate on 5033 samples\n",
            "Epoch 1/50\n",
            "WARNING:tensorflow:From /usr/local/lib/python3.6/dist-packages/keras/backend/tensorflow_backend.py:216: The name tf.is_variable_initialized is deprecated. Please use tf.compat.v1.is_variable_initialized instead.\n",
            "\n",
            "WARNING:tensorflow:From /usr/local/lib/python3.6/dist-packages/keras/backend/tensorflow_backend.py:223: The name tf.variables_initializer is deprecated. Please use tf.compat.v1.variables_initializer instead.\n",
            "\n",
            "40267/40267 [==============================] - 43s 1ms/step - loss: 0.6722 - acc: 0.4433 - f1_m: 0.0461 - precision_m: 0.1450 - recall_m: 0.0319 - val_loss: 0.6720 - val_acc: 0.4490 - val_f1_m: 0.0053 - val_precision_m: 0.0763 - val_recall_m: 0.0028\n",
            "Epoch 2/50\n",
            "40267/40267 [==============================] - 30s 741us/step - loss: 0.6716 - acc: 0.4430 - f1_m: 0.0973 - precision_m: 0.3468 - recall_m: 0.0627 - val_loss: 0.6715 - val_acc: 0.4514 - val_f1_m: 0.2458 - val_precision_m: 0.4784 - val_recall_m: 0.1677\n",
            "Epoch 3/50\n",
            "40267/40267 [==============================] - 33s 811us/step - loss: 0.6672 - acc: 0.4426 - f1_m: 0.2901 - precision_m: 0.4613 - recall_m: 0.2353 - val_loss: 0.6989 - val_acc: 0.4492 - val_f1_m: 0.4378 - val_precision_m: 0.4504 - val_recall_m: 0.4264\n",
            "Epoch 4/50\n",
            "40267/40267 [==============================] - 32s 804us/step - loss: 0.6601 - acc: 0.4455 - f1_m: 0.4186 - precision_m: 0.4476 - recall_m: 0.3939 - val_loss: 0.7078 - val_acc: 0.4492 - val_f1_m: 0.4410 - val_precision_m: 0.4508 - val_recall_m: 0.4319\n",
            "Epoch 5/50\n",
            "40267/40267 [==============================] - 32s 795us/step - loss: 0.6589 - acc: 0.4445 - f1_m: 0.4260 - precision_m: 0.4480 - recall_m: 0.4067 - val_loss: 0.7019 - val_acc: 0.4510 - val_f1_m: 0.4428 - val_precision_m: 0.4515 - val_recall_m: 0.4347\n",
            "Epoch 6/50\n",
            "40267/40267 [==============================] - 33s 815us/step - loss: 0.6569 - acc: 0.4461 - f1_m: 0.4304 - precision_m: 0.4533 - recall_m: 0.4103 - val_loss: 0.6922 - val_acc: 0.4472 - val_f1_m: 0.4408 - val_precision_m: 0.4520 - val_recall_m: 0.4306\n",
            "Epoch 7/50\n",
            "40267/40267 [==============================] - 33s 814us/step - loss: 0.6560 - acc: 0.4419 - f1_m: 0.4309 - precision_m: 0.4512 - recall_m: 0.4130 - val_loss: 0.7058 - val_acc: 0.4488 - val_f1_m: 0.4445 - val_precision_m: 0.4518 - val_recall_m: 0.4377\n",
            "Epoch 8/50\n",
            "40267/40267 [==============================] - 33s 817us/step - loss: 0.6548 - acc: 0.4371 - f1_m: 0.4292 - precision_m: 0.4506 - recall_m: 0.4104 - val_loss: 0.6951 - val_acc: 0.4427 - val_f1_m: 0.4427 - val_precision_m: 0.4545 - val_recall_m: 0.4319\n",
            "Epoch 9/50\n",
            "40267/40267 [==============================] - 33s 814us/step - loss: 0.6559 - acc: 0.4291 - f1_m: 0.4266 - precision_m: 0.4409 - recall_m: 0.4136 - val_loss: 0.6789 - val_acc: 0.4369 - val_f1_m: 0.4355 - val_precision_m: 0.4399 - val_recall_m: 0.4314\n",
            "Epoch 10/50\n",
            "40267/40267 [==============================] - 33s 813us/step - loss: 0.6584 - acc: 0.4232 - f1_m: 0.4218 - precision_m: 0.4316 - recall_m: 0.4128 - val_loss: 0.6778 - val_acc: 0.4349 - val_f1_m: 0.4338 - val_precision_m: 0.4382 - val_recall_m: 0.4296\n",
            "Epoch 11/50\n",
            "40267/40267 [==============================] - 32s 804us/step - loss: 0.6567 - acc: 0.4321 - f1_m: 0.4305 - precision_m: 0.4409 - recall_m: 0.4209 - val_loss: 0.7163 - val_acc: 0.4467 - val_f1_m: 0.4447 - val_precision_m: 0.4487 - val_recall_m: 0.4409\n",
            "Epoch 12/50\n",
            "40267/40267 [==============================] - 32s 802us/step - loss: 0.6571 - acc: 0.4316 - f1_m: 0.4308 - precision_m: 0.4415 - recall_m: 0.4209 - val_loss: 0.7075 - val_acc: 0.4453 - val_f1_m: 0.4444 - val_precision_m: 0.4495 - val_recall_m: 0.4395\n",
            "Epoch 13/50\n",
            "40267/40267 [==============================] - 33s 808us/step - loss: 0.6559 - acc: 0.4365 - f1_m: 0.4337 - precision_m: 0.4509 - recall_m: 0.4184 - val_loss: 0.7066 - val_acc: 0.4474 - val_f1_m: 0.4469 - val_precision_m: 0.4527 - val_recall_m: 0.4413\n",
            "Epoch 14/50\n",
            "40267/40267 [==============================] - 33s 810us/step - loss: 0.6548 - acc: 0.4387 - f1_m: 0.4370 - precision_m: 0.4517 - recall_m: 0.4237 - val_loss: 0.6919 - val_acc: 0.4484 - val_f1_m: 0.4479 - val_precision_m: 0.4543 - val_recall_m: 0.4419\n",
            "Epoch 15/50\n",
            "40267/40267 [==============================] - 32s 800us/step - loss: 0.6549 - acc: 0.4357 - f1_m: 0.4338 - precision_m: 0.4504 - recall_m: 0.4188 - val_loss: 0.6935 - val_acc: 0.4492 - val_f1_m: 0.4467 - val_precision_m: 0.4548 - val_recall_m: 0.4393\n",
            "Epoch 16/50\n",
            "40267/40267 [==============================] - 32s 795us/step - loss: 0.6546 - acc: 0.4439 - f1_m: 0.4396 - precision_m: 0.4522 - recall_m: 0.4280 - val_loss: 0.6654 - val_acc: 0.4459 - val_f1_m: 0.4431 - val_precision_m: 0.4523 - val_recall_m: 0.4345\n",
            "Epoch 17/50\n",
            "40267/40267 [==============================] - 32s 797us/step - loss: 0.6552 - acc: 0.4485 - f1_m: 0.4440 - precision_m: 0.4554 - recall_m: 0.4335 - val_loss: 0.6792 - val_acc: 0.4546 - val_f1_m: 0.4518 - val_precision_m: 0.4572 - val_recall_m: 0.4467\n",
            "Epoch 18/50\n",
            "40267/40267 [==============================] - 32s 794us/step - loss: 0.6546 - acc: 0.4477 - f1_m: 0.4432 - precision_m: 0.4536 - recall_m: 0.4337 - val_loss: 0.6885 - val_acc: 0.4502 - val_f1_m: 0.4488 - val_precision_m: 0.4541 - val_recall_m: 0.4437\n",
            "Epoch 19/50\n",
            "40267/40267 [==============================] - 33s 814us/step - loss: 0.6545 - acc: 0.4492 - f1_m: 0.4427 - precision_m: 0.4525 - recall_m: 0.4335 - val_loss: 0.6949 - val_acc: 0.4472 - val_f1_m: 0.4453 - val_precision_m: 0.4556 - val_recall_m: 0.4359\n",
            "Epoch 20/50\n",
            "40267/40267 [==============================] - 32s 806us/step - loss: 0.6560 - acc: 0.4497 - f1_m: 0.4446 - precision_m: 0.4536 - recall_m: 0.4362 - val_loss: 0.6899 - val_acc: 0.4463 - val_f1_m: 0.4422 - val_precision_m: 0.4544 - val_recall_m: 0.4312\n",
            "Epoch 21/50\n",
            "40267/40267 [==============================] - 33s 810us/step - loss: 0.6543 - acc: 0.4386 - f1_m: 0.4337 - precision_m: 0.4507 - recall_m: 0.4185 - val_loss: 0.7023 - val_acc: 0.4260 - val_f1_m: 0.4253 - val_precision_m: 0.4443 - val_recall_m: 0.4083\n",
            "Epoch 22/50\n",
            "40267/40267 [==============================] - 33s 813us/step - loss: 0.6523 - acc: 0.4325 - f1_m: 0.4296 - precision_m: 0.4407 - recall_m: 0.4195 - val_loss: 0.7020 - val_acc: 0.4202 - val_f1_m: 0.4197 - val_precision_m: 0.4217 - val_recall_m: 0.4178\n",
            "Epoch 23/50\n",
            "40267/40267 [==============================] - 33s 812us/step - loss: 0.6541 - acc: 0.4237 - f1_m: 0.4216 - precision_m: 0.4269 - recall_m: 0.4167 - val_loss: 0.7148 - val_acc: 0.4006 - val_f1_m: 0.4005 - val_precision_m: 0.4011 - val_recall_m: 0.4000\n",
            "Epoch 24/50\n",
            "40267/40267 [==============================] - 33s 809us/step - loss: 0.6525 - acc: 0.4211 - f1_m: 0.4198 - precision_m: 0.4228 - recall_m: 0.4170 - val_loss: 0.7418 - val_acc: 0.4236 - val_f1_m: 0.4237 - val_precision_m: 0.4238 - val_recall_m: 0.4236\n",
            "Epoch 25/50\n",
            "40267/40267 [==============================] - 32s 806us/step - loss: 0.6567 - acc: 0.4171 - f1_m: 0.4158 - precision_m: 0.4181 - recall_m: 0.4135 - val_loss: 0.7141 - val_acc: 0.3833 - val_f1_m: 0.3830 - val_precision_m: 0.3831 - val_recall_m: 0.3829\n",
            "Epoch 26/50\n",
            "40267/40267 [==============================] - 32s 794us/step - loss: 0.6506 - acc: 0.4137 - f1_m: 0.4124 - precision_m: 0.4143 - recall_m: 0.4107 - val_loss: 0.7281 - val_acc: 0.3910 - val_f1_m: 0.3909 - val_precision_m: 0.3911 - val_recall_m: 0.3908\n",
            "Epoch 27/50\n",
            "40267/40267 [==============================] - 32s 798us/step - loss: 0.6506 - acc: 0.4213 - f1_m: 0.4203 - precision_m: 0.4218 - recall_m: 0.4189 - val_loss: 0.7306 - val_acc: 0.4121 - val_f1_m: 0.4117 - val_precision_m: 0.4120 - val_recall_m: 0.4115\n",
            "Epoch 28/50\n",
            "40267/40267 [==============================] - 32s 805us/step - loss: 0.6521 - acc: 0.4176 - f1_m: 0.4167 - precision_m: 0.4180 - recall_m: 0.4154 - val_loss: 0.7300 - val_acc: 0.3805 - val_f1_m: 0.3801 - val_precision_m: 0.3804 - val_recall_m: 0.3799\n",
            "Epoch 29/50\n",
            "40267/40267 [==============================] - 33s 815us/step - loss: 0.6504 - acc: 0.4181 - f1_m: 0.4172 - precision_m: 0.4184 - recall_m: 0.4159 - val_loss: 0.7195 - val_acc: 0.3896 - val_f1_m: 0.3896 - val_precision_m: 0.3898 - val_recall_m: 0.3894\n",
            "Epoch 30/50\n",
            "40267/40267 [==============================] - 33s 815us/step - loss: 0.6509 - acc: 0.4240 - f1_m: 0.4229 - precision_m: 0.4240 - recall_m: 0.4218 - val_loss: 0.7109 - val_acc: 0.3249 - val_f1_m: 0.3248 - val_precision_m: 0.3249 - val_recall_m: 0.3247\n",
            "Epoch 31/50\n",
            "40267/40267 [==============================] - 33s 813us/step - loss: 0.6550 - acc: 0.4180 - f1_m: 0.4171 - precision_m: 0.4182 - recall_m: 0.4161 - val_loss: 0.7240 - val_acc: 0.3535 - val_f1_m: 0.3534 - val_precision_m: 0.3536 - val_recall_m: 0.3533\n",
            "Epoch 32/50\n",
            "40267/40267 [==============================] - 33s 810us/step - loss: 0.6478 - acc: 0.4151 - f1_m: 0.4144 - precision_m: 0.4154 - recall_m: 0.4135 - val_loss: 0.7287 - val_acc: 0.3829 - val_f1_m: 0.3830 - val_precision_m: 0.3830 - val_recall_m: 0.3829\n",
            "Epoch 33/50\n",
            "40267/40267 [==============================] - 33s 815us/step - loss: 0.6508 - acc: 0.4219 - f1_m: 0.4213 - precision_m: 0.4221 - recall_m: 0.4205 - val_loss: 0.7271 - val_acc: 0.3324 - val_f1_m: 0.3321 - val_precision_m: 0.3322 - val_recall_m: 0.3320\n",
            "Epoch 34/50\n",
            "40267/40267 [==============================] - 33s 814us/step - loss: 0.6478 - acc: 0.4151 - f1_m: 0.4145 - precision_m: 0.4153 - recall_m: 0.4138 - val_loss: 0.7217 - val_acc: 0.3551 - val_f1_m: 0.3551 - val_precision_m: 0.3552 - val_recall_m: 0.3551\n",
            "Epoch 35/50\n",
            "40267/40267 [==============================] - 32s 805us/step - loss: 0.6482 - acc: 0.4175 - f1_m: 0.4172 - precision_m: 0.4178 - recall_m: 0.4165 - val_loss: 0.7373 - val_acc: 0.3290 - val_f1_m: 0.3291 - val_precision_m: 0.3291 - val_recall_m: 0.3290\n",
            "Epoch 36/50\n",
            "40267/40267 [==============================] - 32s 803us/step - loss: 0.6523 - acc: 0.4103 - f1_m: 0.4098 - precision_m: 0.4106 - recall_m: 0.4091 - val_loss: 0.7316 - val_acc: 0.3280 - val_f1_m: 0.3279 - val_precision_m: 0.3280 - val_recall_m: 0.3278\n",
            "Epoch 37/50\n",
            "22080/40267 [===============>..............] - ETA: 13s - loss: 0.6489 - acc: 0.4184 - f1_m: 0.4176 - precision_m: 0.4184 - recall_m: 0.4168"
          ],
          "name": "stdout"
        }
      ]
    },
    {
      "cell_type": "code",
      "metadata": {
        "id": "Gw7cIkecxsrx",
        "colab_type": "code",
        "colab": {}
      },
      "source": [
        "print('='*10)\n",
        "print(\"loss: {}, accuracy: {}, f1-score: {}, precision: {}, recall: {}\".format(round(lossT,6), round(accT,6), round(f1T,6), round(precT,6), round(recT,6\n",
        "                                                                                                                                                  )))"
      ],
      "execution_count": 0,
      "outputs": []
    },
    {
      "cell_type": "code",
      "metadata": {
        "id": "i0cQqoV6_b45",
        "colab_type": "code",
        "colab": {}
      },
      "source": [
        ""
      ],
      "execution_count": 0,
      "outputs": []
    }
  ]
}