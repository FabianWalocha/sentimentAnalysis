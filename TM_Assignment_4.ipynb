{
  "nbformat": 4,
  "nbformat_minor": 0,
  "metadata": {
    "colab": {
      "name": "TM_Assignment_4.ipynb",
      "provenance": [],
      "collapsed_sections": [],
      "toc_visible": true,
      "include_colab_link": true
    },
    "kernelspec": {
      "name": "python3",
      "display_name": "Python 3"
    },
    "accelerator": "GPU"
  },
  "cells": [
    {
      "cell_type": "markdown",
      "metadata": {
        "id": "view-in-github",
        "colab_type": "text"
      },
      "source": [
        "<a href=\"https://colab.research.google.com/github/FabianWalocha/sentimentAnalysis/blob/master/TM_Assignment_4.ipynb\" target=\"_parent\"><img src=\"https://colab.research.google.com/assets/colab-badge.svg\" alt=\"Open In Colab\"/></a>"
      ]
    },
    {
      "cell_type": "markdown",
      "metadata": {
        "id": "tFv7TBoKu3Jx",
        "colab_type": "text"
      },
      "source": [
        "##CNN-LSTM approach"
      ]
    },
    {
      "cell_type": "code",
      "metadata": {
        "colab_type": "code",
        "id": "AGgkiERHQvg6",
        "colab": {}
      },
      "source": [
        "X, y  = [], []\n",
        "with open(\"tweet_data_pre_processed.txt\",'r') as f:\n",
        "  for line in f:\n",
        "    s = line.split(' ')\n",
        "    if s[0]=='positive':\n",
        "      y.append([1,0,0])\n",
        "    elif s[0]=='neutral':\n",
        "      y.append([0,1,0])\n",
        "    elif s[0]=='negative':\n",
        "      y.append([0,0,1])\n",
        "    else:\n",
        "      raise Exception('Error in preprocessing')\n",
        "    X.append(\" \".join(s[1:]))"
      ],
      "execution_count": 0,
      "outputs": []
    },
    {
      "cell_type": "code",
      "metadata": {
        "id": "7eWb11ETwsLw",
        "colab_type": "code",
        "colab": {}
      },
      "source": [
        "import re\n",
        "def clean_text(text):\n",
        "    '''Clean text by removing unnecessary characters and altering the format of words.'''\n",
        "    \n",
        "    text = re.sub(r'https?://(?:[-\\w.]|(?:%[\\da-fA-F]{2}))+','<url>',text)\n",
        "    text = re.sub(r'[:;xX8][\\^-]?[)DPp]+','<happy>',text)\n",
        "    text = re.sub(r'\\^[\\.\\_-]?\\^','<happy>',text)\n",
        "    text = re.sub(r':\\'?[-\\^]?[\\/(C]+','<sad>',text)\n",
        "    text = re.sub(r'T[\\._-]?T','<sad>',text)\n",
        "    text = re.sub(r'-[\\._-]?-','<sad>',text)\n",
        "    text = re.sub(r'\\b[oO][\\.-_,]?[oO]\\b','<surpsised>',text)\n",
        "    text = re.sub(r'-[\\._-]?-','<surprised>',text)\n",
        "    text = re.sub(r':[\\^-]?[oO]','<surprised>',text)\n",
        "    text = re.sub(r'D:','<surprised>',text)\n",
        "    \n",
        "    text = re.sub(r\"\\\\\", \"\", text)\n",
        "    text = re.sub(r\"u002c\", \"\", text)\n",
        "    text = re.sub(r\"u2019\", \"'\", text)\n",
        "    text = re.sub(r\"\\n\", \"\",  text)\n",
        "    text = re.sub(r\"[-()]\", \"\", text)\n",
        "    text = re.sub(r\"\\.\", \" .\", text)\n",
        "    text = re.sub(r\"\\!\", \" !\", text)\n",
        "    text = re.sub(r\"\\?\", \" ?\", text)\n",
        "    text = re.sub(r\"\\,\", \" ,\", text)\n",
        "    text = re.sub(r\"i'm\", \"i am\", text)\n",
        "    text = re.sub(r\"\\'s\", \" is\", text)\n",
        "    # text = re.sub(r\"he's\", \"he is\", text)\n",
        "    # text = re.sub(r\"she's\", \"she is\", text)\n",
        "    # text = re.sub(r\"it's\", \"it is\", text)\n",
        "    # text = re.sub(r\"that's\", \"that is\", text)\n",
        "    # text = re.sub(r\"what's\", \"what is\", text)\n",
        "    text = re.sub(r\"\\'ll\", \" will\", text)\n",
        "    text = re.sub(r\"\\'re\", \" are\", text)\n",
        "    text = re.sub(r\"\\'ve\", \" have\", text)\n",
        "    text = re.sub(r\"won't\", \"will not\", text)\n",
        "    text = re.sub(r\"can't\", \"cannot\", text)\n",
        "    text = re.sub(r\"n't\", \" not\", text)\n",
        "    text = re.sub(r\"n'\", \"ng\", text)\n",
        "    text = re.sub(r\"oh+\", \"oh\", text)\n",
        "    text = re.sub(r\"ah+\", \"ah\", text)\n",
        "    text = re.sub(r\"aa+\",\"a\", text)\n",
        "    text = re.sub(r\"soo+\\b\",'soo', text)\n",
        "    text = re.sub(r\"aint\", \"is not\", text)\n",
        "    text = re.sub(r\"gonna\", \"going to\", text)\n",
        "    text = re.sub(r\"ima\", \"i am going to\", text)\n",
        "    text = re.sub(r\"\\/\\w+\", \"\", text)\n",
        "    return text\n",
        "\n"
      ],
      "execution_count": 0,
      "outputs": []
    },
    {
      "cell_type": "code",
      "metadata": {
        "id": "kZPuQ4iE2-hv",
        "colab_type": "code",
        "outputId": "310b4544-b1d4-4a1f-c6ed-31306d1a3b02",
        "colab": {
          "base_uri": "https://localhost:8080/",
          "height": 106
        }
      },
      "source": [
        "%tensorflow_version 1.x\n",
        "import numpy as np\n",
        "from keras.preprocessing import sequence\n",
        "from collections import defaultdict\n",
        "\n",
        "Xc = []\n",
        "for line in X:\n",
        "    Xc.append(clean_text(line))\n",
        "X = Xc\n",
        "\n",
        "# inspired by https://github.com/saurabhrathor/InceptionModel_SentimentAnalysis/\n",
        "vocabulary = dict()\n",
        "count = defaultdict(int)\n",
        "inverse_vocabulary = ['PADDING']\n",
        "for text in X:\n",
        "    text = text.split()\n",
        "    for word in text:\n",
        "        count[word]+=1\n",
        "        if word not in vocabulary:\n",
        "            vocabulary[word] = len(inverse_vocabulary)\n",
        "            inverse_vocabulary.append(word)\n",
        "\n",
        "max_len = 0\n",
        "sequences = []\n",
        "for text in X:\n",
        "    text = text.split()\n",
        "    text_sequence = []\n",
        "    for word in text:\n",
        "      # constraint given term frequency\n",
        "        if count[word] >= 2:\n",
        "            text_sequence.append(vocabulary[word])\n",
        "            inverse_vocabulary.append(word)\n",
        "    # save longest tweet length\n",
        "    if len(text_sequence)>max_len:\n",
        "      max_len=len(text_sequence)\n",
        "    sequences.append(text_sequence)\n",
        "print(\"most words in tweet: {}\".format(max_len))\n",
        "\n",
        "    \n",
        "print(\"%d unique tokens in the vocabulary\" %len(vocabulary))\n",
        "\n",
        "MAX_SEQUENCE_LENGTH = max_len\n",
        "bodies_seq = sequence.pad_sequences(sequences, maxlen=MAX_SEQUENCE_LENGTH)\n",
        "\n",
        "from sklearn.model_selection import train_test_split\n",
        "\n",
        "X_train, X_val_test, y_train, y_val_test = train_test_split(np.array(bodies_seq), np.array(y), test_size=0.1)\n",
        "\n",
        "X_val, X_test, y_val, y_test = train_test_split(X_val_test, y_val_test, test_size=0.1)\n",
        "\n",
        "print('Train: {} examples'.format(len(y_train)))\n",
        "print('Val: {} examples'.format(len(y_val)))\n",
        "print('Test: {} examples'.format(len(y_test)))\n"
      ],
      "execution_count": 0,
      "outputs": [
        {
          "output_type": "stream",
          "text": [
            "most words in tweet: 59\n",
            "50897 unique tokens in the vocabulary\n",
            "Train: 45300 examples\n",
            "Val: 4530 examples\n",
            "Test: 504 examples\n"
          ],
          "name": "stdout"
        }
      ]
    },
    {
      "cell_type": "code",
      "metadata": {
        "id": "_3fZjhvuub-F",
        "colab_type": "code",
        "colab": {}
      },
      "source": [
        "# inspired by https://github.com/mihirahlawat/Sentiment-Analysis\n",
        "# BB_twtr at SemEval-2017 Task 4: Twitter Sentiment Analysis with CNNs and LSTMs\n",
        "\n",
        "from keras.layers import Embedding\n",
        "from keras.models import Sequential, Model\n",
        "from keras.layers import Dense, Activation\n",
        "from keras.layers import Flatten, Conv1D, SpatialDropout1D, MaxPooling1D, AveragePooling1D, Bidirectional, merge, concatenate, Input, Dropout, LSTM\n",
        "\n",
        "def model(embedding_size=200, max_words=200, y_dim=1, vocabulary_size=50,\n",
        "          num_filters=200, filter_sizes=[3,4,5], pool_padding='valid', dropout=0.5):\n",
        "    embed_input = Input(shape=(max_words,))\n",
        "    x = Embedding(vocabulary_size, embedding_size, input_length=max_words)(embed_input)\n",
        "    print(x)\n",
        "    pooled_outputs = []\n",
        "    for i in range(len(filter_sizes)):\n",
        "        conv = Conv1D(num_filters, kernel_size=filter_sizes[i], padding='valid', activation='relu')(x)\n",
        "        conv = MaxPooling1D(pool_size=max_words-filter_sizes[i]+1)(conv)           \n",
        "        pooled_outputs.append(conv)\n",
        "    merge = concatenate(pooled_outputs)\n",
        "    \n",
        "    x = Dense(30, activation='relu')(merge)\n",
        "    x = Dropout(dropout)(x)\n",
        "    x = Bidirectional(LSTM(100, return_sequences=True, dropout=0.5, recurrent_dropout=0.1))(x)\n",
        "    x = Dense(30, activation='relu')(x)\n",
        "    x = Dropout(dropout)(x)\n",
        "    x = Flatten()(x)\n",
        "    x = Dense(y_dim, activation='softmax')(x)\n",
        "\n",
        "    model = Model(inputs=embed_input,outputs=x)\n",
        "\n",
        "    # model.compile(optimizer='adam',loss = 'categorical_crossentropy', metrics = ['acc'])\n",
        "    # print(model.summary())\n",
        "    \n",
        "    from keras.utils import plot_model\n",
        "    plot_model(model, to_file='shared_input_layer.png')\n",
        "    \n",
        "    return model"
      ],
      "execution_count": 0,
      "outputs": []
    },
    {
      "cell_type": "code",
      "metadata": {
        "id": "b_j4EPeNWdXU",
        "colab_type": "code",
        "outputId": "941d97c4-3946-4391-b6e7-d20ded9da623",
        "colab": {
          "base_uri": "https://localhost:8080/",
          "height": 35
        }
      },
      "source": [
        "X_train.shape"
      ],
      "execution_count": 0,
      "outputs": [
        {
          "output_type": "execute_result",
          "data": {
            "text/plain": [
              "(45300, 59)"
            ]
          },
          "metadata": {
            "tags": []
          },
          "execution_count": 12
        }
      ]
    },
    {
      "cell_type": "code",
      "metadata": {
        "id": "yIJSeKoN7M9k",
        "colab_type": "code",
        "colab": {}
      },
      "source": [
        "from keras import backend as K\n",
        "import tensorflow as tf\n",
        "\n",
        "def recall_m(y_true, y_pred):\n",
        "        true_positives = K.sum(K.round(K.clip(y_true * y_pred, 0, 1)))\n",
        "        possible_positives = K.sum(K.round(K.clip(y_true, 0, 1)))\n",
        "        recall = true_positives / (possible_positives + K.epsilon())\n",
        "        return recall\n",
        "\n",
        "def precision_m(y_true, y_pred):\n",
        "        true_positives = K.sum(K.round(K.clip(y_true * y_pred, 0, 1)))\n",
        "        predicted_positives = K.sum(K.round(K.clip(y_pred, 0, 1)))\n",
        "        precision = true_positives / (predicted_positives + K.epsilon())\n",
        "        return precision\n",
        "\n",
        "def f1_m(y_true, y_pred):\n",
        "    precision = precision_m(y_true, y_pred)\n",
        "    recall = recall_m(y_true, y_pred)\n",
        "    return 2*((precision*recall)/(precision+recall+K.epsilon()))\n",
        "\n",
        "def f1_loss(y_true, y_pred):\n",
        "    \n",
        "    tp = K.sum(K.cast(y_true*y_pred, 'float'), axis=0)\n",
        "    tn = K.sum(K.cast((1-y_true)*(1-y_pred), 'float'), axis=0)\n",
        "    fp = K.sum(K.cast((1-y_true)*y_pred, 'float'), axis=0)\n",
        "    fn = K.sum(K.cast(y_true*(1-y_pred), 'float'), axis=0)\n",
        "\n",
        "    p = tp / (tp + fp + K.epsilon())\n",
        "    r = tp / (tp + fn + K.epsilon())\n",
        "\n",
        "    f1 = 2*p*r / (p+r+K.epsilon())\n",
        "    f1 = tf.where(tf.is_nan(f1), tf.zeros_like(f1), f1)\n",
        "    return 1 - K.mean(f1)\n",
        "  "
      ],
      "execution_count": 0,
      "outputs": []
    },
    {
      "cell_type": "code",
      "metadata": {
        "id": "btA-2yMu9-UY",
        "colab_type": "code",
        "outputId": "d82f49f0-65f9-4720-be79-98a5542a2959",
        "colab": {
          "base_uri": "https://localhost:8080/",
          "height": 586
        }
      },
      "source": [
        "from keras.callbacks import EarlyStopping, ModelCheckpoint, ReduceLROnPlateau\n",
        "from sklearn.model_selection import train_test_split\n",
        "import numpy as np\n",
        "\n",
        "from tensorflow.python.client import device_lib\n",
        "# print(device_lib.list_local_devices())\n",
        "K.tensorflow_backend._get_available_gpus()\n",
        "\n",
        "mdl = model(embedding_size=100, max_words=MAX_SEQUENCE_LENGTH, vocabulary_size=len(vocabulary)+1,\n",
        "            y_dim=y_train.shape[1],filter_sizes = [3,4,5],dropout=0.5)\n",
        "mdl.compile(loss=f1_loss, \n",
        "            optimizer='adam', \n",
        "            metrics=['acc',f1_m,precision_m, recall_m])\n",
        "\n",
        "batch_size = 32\n",
        "num_epochs = 100\n",
        "\n",
        "# earlyStopping = EarlyStopping(monitor='val_loss', patience=5, verbose=0, mode='min')\n",
        "# mcp_save = ModelCheckpoint('saved_model.h5', verbose=0, monitor='val_loss',save_best_only=True, mode='min')\n",
        "# reduce_lr_loss = ReduceLROnPlateau(monitor='val_loss', factor=0.1, patience=7, verbose=0, epsilon=1e-4, mode='min')\n",
        "\n",
        "\n",
        "# history = mdl.fit(X_train, y_train, validation_data=(X_val, y_val), batch_size=batch_size, epochs=num_epochs, \n",
        "#           callbacks=[\n",
        "#                      #earlyStopping, \n",
        "#                      mcp_save]\n",
        "#           )"
      ],
      "execution_count": 0,
      "outputs": [
        {
          "output_type": "stream",
          "text": [
            "[name: \"/device:CPU:0\"\n",
            "device_type: \"CPU\"\n",
            "memory_limit: 268435456\n",
            "locality {\n",
            "}\n",
            "incarnation: 10073009030711870680\n",
            ", name: \"/device:XLA_CPU:0\"\n",
            "device_type: \"XLA_CPU\"\n",
            "memory_limit: 17179869184\n",
            "locality {\n",
            "}\n",
            "incarnation: 11483470533792595796\n",
            "physical_device_desc: \"device: XLA_CPU device\"\n",
            ", name: \"/device:XLA_GPU:0\"\n",
            "device_type: \"XLA_GPU\"\n",
            "memory_limit: 17179869184\n",
            "locality {\n",
            "}\n",
            "incarnation: 2270843220487932007\n",
            "physical_device_desc: \"device: XLA_GPU device\"\n",
            ", name: \"/device:GPU:0\"\n",
            "device_type: \"GPU\"\n",
            "memory_limit: 11330115994\n",
            "locality {\n",
            "  bus_id: 1\n",
            "  links {\n",
            "  }\n",
            "}\n",
            "incarnation: 4218741205563997573\n",
            "physical_device_desc: \"device: 0, name: Tesla K80, pci bus id: 0000:00:04.0, compute capability: 3.7\"\n",
            "]\n",
            "Tensor(\"embedding_2/embedding_lookup/Identity:0\", shape=(?, 59, 100), dtype=float32)\n"
          ],
          "name": "stdout"
        }
      ]
    },
    {
      "cell_type": "code",
      "metadata": {
        "id": "-EMOuKx1XgI0",
        "colab_type": "code",
        "outputId": "63045252-590c-48d0-cec0-e3e986370433",
        "colab": {
          "base_uri": "https://localhost:8080/",
          "height": 888
        }
      },
      "source": [
        "X_train.reshape(-1,MAX_SEQUENCE_LENGTH,1)"
      ],
      "execution_count": 0,
      "outputs": [
        {
          "output_type": "execute_result",
          "data": {
            "text/plain": [
              "array([[[    0],\n",
              "        [    0],\n",
              "        [    0],\n",
              "        ...,\n",
              "        [ 5533],\n",
              "        [ 2748],\n",
              "        [ 2028]],\n",
              "\n",
              "       [[    0],\n",
              "        [    0],\n",
              "        [    0],\n",
              "        ...,\n",
              "        [  439],\n",
              "        [  154],\n",
              "        [ 8190]],\n",
              "\n",
              "       [[    0],\n",
              "        [    0],\n",
              "        [    0],\n",
              "        ...,\n",
              "        [20561],\n",
              "        [    5],\n",
              "        [  560]],\n",
              "\n",
              "       ...,\n",
              "\n",
              "       [[    0],\n",
              "        [    0],\n",
              "        [    0],\n",
              "        ...,\n",
              "        [25356],\n",
              "        [14557],\n",
              "        [   44]],\n",
              "\n",
              "       [[    0],\n",
              "        [    0],\n",
              "        [    0],\n",
              "        ...,\n",
              "        [  495],\n",
              "        [  495],\n",
              "        [  560]],\n",
              "\n",
              "       [[    0],\n",
              "        [    0],\n",
              "        [    0],\n",
              "        ...,\n",
              "        [  376],\n",
              "        [  372],\n",
              "        [  473]]], dtype=int32)"
            ]
          },
          "metadata": {
            "tags": []
          },
          "execution_count": 17
        }
      ]
    },
    {
      "cell_type": "code",
      "metadata": {
        "id": "pyi-jMJ7OeEB",
        "colab_type": "code",
        "outputId": "fad9894b-a8ab-4702-b96e-542e02a216c6",
        "colab": {
          "base_uri": "https://localhost:8080/",
          "height": 401
        }
      },
      "source": [
        "batch_size = 64\n",
        "num_epochs = 30\n",
        "\n",
        "earlyStopping = EarlyStopping(monitor='val_loss', patience=5, verbose=0, mode='min')\n",
        "mcp_save = ModelCheckpoint('saved_model.h5', verbose=0, monitor='val_loss',save_best_only=True, mode='min')\n",
        "reduce_lr_loss = ReduceLROnPlateau(monitor='val_loss', factor=0.1, patience=7, verbose=0, epsilon=1e-4, mode='min')\n",
        "\n",
        "history = mdl.fit(X_train, tf.cast(y_train,tf.int64), validation_data=(X_val,tf.cast(y_val,tf.int64)), batch_size=batch_size, epochs=num_epochs,\n",
        "          callbacks=[\n",
        "                     #earlyStopping, \n",
        "                     mcp_save]\n",
        "          )"
      ],
      "execution_count": 0,
      "outputs": [
        {
          "output_type": "stream",
          "text": [
            "WARNING:tensorflow:`epsilon` argument is deprecated and will be removed, use `min_delta` instead.\n"
          ],
          "name": "stdout"
        },
        {
          "output_type": "error",
          "ename": "TypeError",
          "evalue": "ignored",
          "traceback": [
            "\u001b[0;31m---------------------------------------------------------------------------\u001b[0m",
            "\u001b[0;31mTypeError\u001b[0m                                 Traceback (most recent call last)",
            "\u001b[0;32m<ipython-input-10-986788c86d57>\u001b[0m in \u001b[0;36m<module>\u001b[0;34m()\u001b[0m\n\u001b[1;32m      9\u001b[0m           callbacks=[\n\u001b[1;32m     10\u001b[0m                      \u001b[0;31m#earlyStopping,\u001b[0m\u001b[0;34m\u001b[0m\u001b[0;34m\u001b[0m\u001b[0;34m\u001b[0m\u001b[0m\n\u001b[0;32m---> 11\u001b[0;31m                      mcp_save]\n\u001b[0m\u001b[1;32m     12\u001b[0m           )\n",
            "\u001b[0;32m/usr/local/lib/python3.6/dist-packages/tensorflow_core/python/keras/engine/training.py\u001b[0m in \u001b[0;36mfit\u001b[0;34m(self, x, y, batch_size, epochs, verbose, callbacks, validation_split, validation_data, shuffle, class_weight, sample_weight, initial_epoch, steps_per_epoch, validation_steps, validation_freq, max_queue_size, workers, use_multiprocessing, **kwargs)\u001b[0m\n\u001b[1;32m    725\u001b[0m         \u001b[0mmax_queue_size\u001b[0m\u001b[0;34m=\u001b[0m\u001b[0mmax_queue_size\u001b[0m\u001b[0;34m,\u001b[0m\u001b[0;34m\u001b[0m\u001b[0;34m\u001b[0m\u001b[0m\n\u001b[1;32m    726\u001b[0m         \u001b[0mworkers\u001b[0m\u001b[0;34m=\u001b[0m\u001b[0mworkers\u001b[0m\u001b[0;34m,\u001b[0m\u001b[0;34m\u001b[0m\u001b[0;34m\u001b[0m\u001b[0m\n\u001b[0;32m--> 727\u001b[0;31m         use_multiprocessing=use_multiprocessing)\n\u001b[0m\u001b[1;32m    728\u001b[0m \u001b[0;34m\u001b[0m\u001b[0m\n\u001b[1;32m    729\u001b[0m   def evaluate(self,\n",
            "\u001b[0;32m/usr/local/lib/python3.6/dist-packages/tensorflow_core/python/keras/engine/training_distributed.py\u001b[0m in \u001b[0;36mfit\u001b[0;34m(self, model, x, y, batch_size, epochs, verbose, callbacks, validation_split, validation_data, shuffle, class_weight, sample_weight, initial_epoch, steps_per_epoch, validation_steps, validation_freq, **kwargs)\u001b[0m\n\u001b[1;32m    617\u001b[0m         \u001b[0mvalidation_split\u001b[0m\u001b[0;34m=\u001b[0m\u001b[0mvalidation_split\u001b[0m\u001b[0;34m,\u001b[0m\u001b[0;34m\u001b[0m\u001b[0;34m\u001b[0m\u001b[0m\n\u001b[1;32m    618\u001b[0m         \u001b[0mshuffle\u001b[0m\u001b[0;34m=\u001b[0m\u001b[0mshuffle\u001b[0m\u001b[0;34m,\u001b[0m\u001b[0;34m\u001b[0m\u001b[0;34m\u001b[0m\u001b[0m\n\u001b[0;32m--> 619\u001b[0;31m         epochs=epochs)\n\u001b[0m\u001b[1;32m    620\u001b[0m     \u001b[0;32mif\u001b[0m \u001b[0;32mnot\u001b[0m \u001b[0mdist_utils\u001b[0m\u001b[0;34m.\u001b[0m\u001b[0mis_distributing_by_cloning\u001b[0m\u001b[0;34m(\u001b[0m\u001b[0mmodel\u001b[0m\u001b[0;34m)\u001b[0m\u001b[0;34m:\u001b[0m\u001b[0;34m\u001b[0m\u001b[0;34m\u001b[0m\u001b[0m\n\u001b[1;32m    621\u001b[0m       \u001b[0;32mwith\u001b[0m \u001b[0mmodel\u001b[0m\u001b[0;34m.\u001b[0m\u001b[0m_distribution_strategy\u001b[0m\u001b[0;34m.\u001b[0m\u001b[0mscope\u001b[0m\u001b[0;34m(\u001b[0m\u001b[0;34m)\u001b[0m\u001b[0;34m:\u001b[0m\u001b[0;34m\u001b[0m\u001b[0;34m\u001b[0m\u001b[0m\n",
            "\u001b[0;32m/usr/local/lib/python3.6/dist-packages/tensorflow_core/python/keras/engine/training.py\u001b[0m in \u001b[0;36m_distribution_standardize_user_data\u001b[0;34m(self, x, y, sample_weight, class_weight, batch_size, validation_split, shuffle, epochs, allow_partial_batch)\u001b[0m\n\u001b[1;32m   2286\u001b[0m \u001b[0;34m\u001b[0m\u001b[0m\n\u001b[1;32m   2287\u001b[0m         ds = strategy.extended.experimental_make_numpy_dataset(in_tuple,\n\u001b[0;32m-> 2288\u001b[0;31m                                                                session=session)\n\u001b[0m\u001b[1;32m   2289\u001b[0m         \u001b[0;32mif\u001b[0m \u001b[0mshuffle\u001b[0m\u001b[0;34m:\u001b[0m\u001b[0;34m\u001b[0m\u001b[0;34m\u001b[0m\u001b[0m\n\u001b[1;32m   2290\u001b[0m           \u001b[0;31m# We want a buffer size that is larger than the batch size provided by\u001b[0m\u001b[0;34m\u001b[0m\u001b[0;34m\u001b[0m\u001b[0;34m\u001b[0m\u001b[0m\n",
            "\u001b[0;32m/usr/local/lib/python3.6/dist-packages/tensorflow_core/python/distribute/distribute_lib.py\u001b[0m in \u001b[0;36mexperimental_make_numpy_dataset\u001b[0;34m(self, numpy_input, session)\u001b[0m\n\u001b[1;32m   1684\u001b[0m     \"\"\"\n\u001b[1;32m   1685\u001b[0m     \u001b[0m_require_cross_replica_or_default_context_extended\u001b[0m\u001b[0;34m(\u001b[0m\u001b[0mself\u001b[0m\u001b[0;34m)\u001b[0m\u001b[0;34m\u001b[0m\u001b[0;34m\u001b[0m\u001b[0m\n\u001b[0;32m-> 1686\u001b[0;31m     \u001b[0;32mreturn\u001b[0m \u001b[0mself\u001b[0m\u001b[0;34m.\u001b[0m\u001b[0m_experimental_make_numpy_dataset\u001b[0m\u001b[0;34m(\u001b[0m\u001b[0mnumpy_input\u001b[0m\u001b[0;34m,\u001b[0m \u001b[0msession\u001b[0m\u001b[0;34m=\u001b[0m\u001b[0msession\u001b[0m\u001b[0;34m)\u001b[0m\u001b[0;34m\u001b[0m\u001b[0;34m\u001b[0m\u001b[0m\n\u001b[0m\u001b[1;32m   1687\u001b[0m \u001b[0;34m\u001b[0m\u001b[0m\n\u001b[1;32m   1688\u001b[0m   \u001b[0;32mdef\u001b[0m \u001b[0m_experimental_make_numpy_dataset\u001b[0m\u001b[0;34m(\u001b[0m\u001b[0mself\u001b[0m\u001b[0;34m,\u001b[0m \u001b[0mnumpy_input\u001b[0m\u001b[0;34m,\u001b[0m \u001b[0msession\u001b[0m\u001b[0;34m)\u001b[0m\u001b[0;34m:\u001b[0m\u001b[0;34m\u001b[0m\u001b[0;34m\u001b[0m\u001b[0m\n",
            "\u001b[0;32m/usr/local/lib/python3.6/dist-packages/tensorflow_core/python/distribute/tpu_strategy.py\u001b[0m in \u001b[0;36m_experimental_make_numpy_dataset\u001b[0;34m(self, numpy_input, session)\u001b[0m\n\u001b[1;32m    247\u001b[0m     return numpy_dataset.one_host_numpy_dataset(\n\u001b[1;32m    248\u001b[0m         \u001b[0mnumpy_input\u001b[0m\u001b[0;34m,\u001b[0m \u001b[0mnumpy_dataset\u001b[0m\u001b[0;34m.\u001b[0m\u001b[0mSingleDevice\u001b[0m\u001b[0;34m(\u001b[0m\u001b[0mself\u001b[0m\u001b[0;34m.\u001b[0m\u001b[0m_host_device\u001b[0m\u001b[0;34m)\u001b[0m\u001b[0;34m,\u001b[0m\u001b[0;34m\u001b[0m\u001b[0;34m\u001b[0m\u001b[0m\n\u001b[0;32m--> 249\u001b[0;31m         session)\n\u001b[0m\u001b[1;32m    250\u001b[0m \u001b[0;34m\u001b[0m\u001b[0m\n\u001b[1;32m    251\u001b[0m   \u001b[0;32mdef\u001b[0m \u001b[0m_experimental_distribute_dataset\u001b[0m\u001b[0;34m(\u001b[0m\u001b[0mself\u001b[0m\u001b[0;34m,\u001b[0m \u001b[0mdataset\u001b[0m\u001b[0;34m)\u001b[0m\u001b[0;34m:\u001b[0m\u001b[0;34m\u001b[0m\u001b[0;34m\u001b[0m\u001b[0m\n",
            "\u001b[0;32m/usr/local/lib/python3.6/dist-packages/tensorflow_core/python/distribute/numpy_dataset.py\u001b[0m in \u001b[0;36mone_host_numpy_dataset\u001b[0;34m(numpy_input, colocate_with, session)\u001b[0m\n\u001b[1;32m     86\u001b[0m                       for i in numpy_flat)\n\u001b[1;32m     87\u001b[0m   \u001b[0;32mfor\u001b[0m \u001b[0mv\u001b[0m\u001b[0;34m,\u001b[0m \u001b[0mi\u001b[0m \u001b[0;32min\u001b[0m \u001b[0mzip\u001b[0m\u001b[0;34m(\u001b[0m\u001b[0mvars_flat\u001b[0m\u001b[0;34m,\u001b[0m \u001b[0mnumpy_flat\u001b[0m\u001b[0;34m)\u001b[0m\u001b[0;34m:\u001b[0m\u001b[0;34m\u001b[0m\u001b[0;34m\u001b[0m\u001b[0m\n\u001b[0;32m---> 88\u001b[0;31m     \u001b[0minit_var_from_numpy\u001b[0m\u001b[0;34m(\u001b[0m\u001b[0mv\u001b[0m\u001b[0;34m,\u001b[0m \u001b[0mi\u001b[0m\u001b[0;34m,\u001b[0m \u001b[0msession\u001b[0m\u001b[0;34m)\u001b[0m\u001b[0;34m\u001b[0m\u001b[0;34m\u001b[0m\u001b[0m\n\u001b[0m\u001b[1;32m     89\u001b[0m   \u001b[0mvars_nested\u001b[0m \u001b[0;34m=\u001b[0m \u001b[0mnest\u001b[0m\u001b[0;34m.\u001b[0m\u001b[0mpack_sequence_as\u001b[0m\u001b[0;34m(\u001b[0m\u001b[0mnumpy_input\u001b[0m\u001b[0;34m,\u001b[0m \u001b[0mvars_flat\u001b[0m\u001b[0;34m)\u001b[0m\u001b[0;34m\u001b[0m\u001b[0;34m\u001b[0m\u001b[0m\n\u001b[1;32m     90\u001b[0m   \u001b[0;32mreturn\u001b[0m \u001b[0mdataset_ops\u001b[0m\u001b[0;34m.\u001b[0m\u001b[0mDataset\u001b[0m\u001b[0;34m.\u001b[0m\u001b[0mfrom_tensor_slices\u001b[0m\u001b[0;34m(\u001b[0m\u001b[0mvars_nested\u001b[0m\u001b[0;34m)\u001b[0m\u001b[0;34m\u001b[0m\u001b[0;34m\u001b[0m\u001b[0m\n",
            "\u001b[0;32m/usr/local/lib/python3.6/dist-packages/tensorflow_core/python/distribute/numpy_dataset.py\u001b[0m in \u001b[0;36minit_var_from_numpy\u001b[0;34m(input_var, numpy_input, session)\u001b[0m\n\u001b[1;32m     59\u001b[0m     \u001b[0;31m# Calculate number of elements we want to copy per slice.\u001b[0m\u001b[0;34m\u001b[0m\u001b[0;34m\u001b[0m\u001b[0;34m\u001b[0m\u001b[0m\n\u001b[1;32m     60\u001b[0m     batch_size_per_slice = int(\n\u001b[0;32m---> 61\u001b[0;31m         np.ceil((64 << 20) / byte_size_per_batch_element))\n\u001b[0m\u001b[1;32m     62\u001b[0m \u001b[0;34m\u001b[0m\u001b[0m\n\u001b[1;32m     63\u001b[0m     \u001b[0;31m# Copy slices of the above size starting at 0, except the last slice will be\u001b[0m\u001b[0;34m\u001b[0m\u001b[0;34m\u001b[0m\u001b[0;34m\u001b[0m\u001b[0m\n",
            "\u001b[0;32m/usr/local/lib/python3.6/dist-packages/tensorflow_core/python/framework/tensor_shape.py\u001b[0m in \u001b[0;36m__rtruediv__\u001b[0;34m(self, other)\u001b[0m\n\u001b[1;32m    554\u001b[0m     \"\"\"\n\u001b[1;32m    555\u001b[0m     raise TypeError(\"unsupported operand type(s) for /: '{}' and 'Dimension', \"\n\u001b[0;32m--> 556\u001b[0;31m                     \"please use // instead\".format(type(other).__name__))\n\u001b[0m\u001b[1;32m    557\u001b[0m \u001b[0;34m\u001b[0m\u001b[0m\n\u001b[1;32m    558\u001b[0m   \u001b[0;32mdef\u001b[0m \u001b[0m__mod__\u001b[0m\u001b[0;34m(\u001b[0m\u001b[0mself\u001b[0m\u001b[0;34m,\u001b[0m \u001b[0mother\u001b[0m\u001b[0;34m)\u001b[0m\u001b[0;34m:\u001b[0m\u001b[0;34m\u001b[0m\u001b[0;34m\u001b[0m\u001b[0m\n",
            "\u001b[0;31mTypeError\u001b[0m: unsupported operand type(s) for /: 'int' and 'Dimension', please use // instead"
          ]
        }
      ]
    },
    {
      "cell_type": "code",
      "metadata": {
        "id": "b5is5hZTgFsT",
        "colab_type": "code",
        "colab": {}
      },
      "source": [
        "import matplotlib.pyplot as plt\n",
        "plt.figure(figsize=(10,7))\n",
        "plt.plot(history.epoch,history.history['loss'],history.epoch,history.history['val_loss'], linewidth=2)\n",
        "# plt.plot(history.epoch,history.history['f1_m'],history.epoch,history.history['val_f1_m'])\n",
        "plt.ylabel('Loss', fontsize=15)\n",
        "plt.xlabel('Epoch', fontsize=15)\n",
        "plt.legend(['Training loss', 'Validation loss'], fontsize=15)\n",
        "plt.show()"
      ],
      "execution_count": 0,
      "outputs": []
    },
    {
      "cell_type": "code",
      "metadata": {
        "id": "pJgjbdWACfyF",
        "colab_type": "code",
        "colab": {}
      },
      "source": [
        "from keras.models import load_model\n",
        "\n",
        "mdl = load_model('saved_model.h5', custom_objects={\n",
        "                                                  'f1_loss':f1_loss, \n",
        "                                                  'f1_m':f1_m,\n",
        "                                                  'precision_m':precision_m,\n",
        "                                                  'recall_m':recall_m\n",
        "                                                   })\n",
        "loss, acc, f1, prec, rec = mdl.evaluate(X_test, y_test)\n",
        "print(\"loss: {}, accuracy: {}, f1-score: {}, precision: {}, recall: {}\".format(round(loss,4), round(acc,4), round(f1,4), round(prec,4), round(rec,4)))"
      ],
      "execution_count": 0,
      "outputs": []
    }
  ]
}