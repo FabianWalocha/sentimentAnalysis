{
  "nbformat": 4,
  "nbformat_minor": 0,
  "metadata": {
    "colab": {
      "name": "CV_NN.ipynb",
      "provenance": [],
      "collapsed_sections": [],
      "toc_visible": true,
      "machine_shape": "hm",
      "include_colab_link": true
    },
    "kernelspec": {
      "name": "python3",
      "display_name": "Python 3"
    },
    "accelerator": "GPU"
  },
  "cells": [
    {
      "cell_type": "markdown",
      "metadata": {
        "id": "view-in-github",
        "colab_type": "text"
      },
      "source": [
        "<a href=\"https://colab.research.google.com/github/FabianWalocha/sentimentAnalysis/blob/master/CV_NN.ipynb\" target=\"_parent\"><img src=\"https://colab.research.google.com/assets/colab-badge.svg\" alt=\"Open In Colab\"/></a>"
      ]
    },
    {
      "cell_type": "markdown",
      "metadata": {
        "id": "tFv7TBoKu3Jx",
        "colab_type": "text"
      },
      "source": [
        "##CNN-LSTM approach"
      ]
    },
    {
      "cell_type": "code",
      "metadata": {
        "id": "nfTM99AK3V0G",
        "colab_type": "code",
        "outputId": "a0cedefd-f5dc-448a-ca8b-a29591e61fb5",
        "colab": {
          "base_uri": "https://localhost:8080/",
          "height": 177
        }
      },
      "source": [
        "%cd /content\n",
        "!rm -rf sentimentAnalysis\n",
        "!git clone https://github.com/FabianWalocha/sentimentAnalysis.git\n",
        "%cd sentimentAnalysis/"
      ],
      "execution_count": 0,
      "outputs": [
        {
          "output_type": "stream",
          "text": [
            "/content\n",
            "Cloning into 'sentimentAnalysis'...\n",
            "remote: Enumerating objects: 103, done.\u001b[K\n",
            "remote: Counting objects: 100% (103/103), done.\u001b[K\n",
            "remote: Compressing objects: 100% (71/71), done.\u001b[K\n",
            "remote: Total 103 (delta 63), reused 63 (delta 30), pack-reused 0\u001b[K\n",
            "Receiving objects: 100% (103/103), 6.28 MiB | 13.39 MiB/s, done.\n",
            "Resolving deltas: 100% (63/63), done.\n",
            "/content/sentimentAnalysis\n"
          ],
          "name": "stdout"
        }
      ]
    },
    {
      "cell_type": "code",
      "metadata": {
        "id": "2Hrq03D_dHwA",
        "colab_type": "code",
        "outputId": "03cb9570-5e3a-4e90-873e-1eb164695fbc",
        "colab": {
          "base_uri": "https://localhost:8080/",
          "height": 35
        }
      },
      "source": [
        "%tensorflow_version 1.x\n",
        "from sklearn import metrics\n",
        "from random import shuffle\n",
        "from collections import defaultdict\n",
        "from tqdm import tqdm_notebook as tqdm\n",
        "from gensim.models import Word2Vec, Doc2Vec\n",
        "from gensim.models.doc2vec import LabeledSentence\n",
        "from sklearn.linear_model import LogisticRegression\n",
        "from sklearn.neighbors import KNeighborsClassifier\n",
        "from sklearn.naive_bayes import GaussianNB\n",
        "from sklearn.svm import LinearSVC \n",
        "from keras.models import load_model\n",
        "import matplotlib.pyplot as plt\n",
        "import seaborn as sns\n",
        "import  numpy as np\n",
        "from matplotlib import pyplot as plt\n",
        "import spacy\n",
        "import os\n",
        "import warnings\n",
        "from CNNLSTM import score_CNN_LSTM as m1\n",
        "from w2vLSTM import score_CNN_LSTM as m2\n",
        "warnings.filterwarnings(\"ignore\")"
      ],
      "execution_count": 0,
      "outputs": [
        {
          "output_type": "stream",
          "text": [
            "Using TensorFlow backend.\n"
          ],
          "name": "stderr"
        }
      ]
    },
    {
      "cell_type": "code",
      "metadata": {
        "id": "sUAat5iOdK_P",
        "colab_type": "code",
        "colab": {}
      },
      "source": [
        "path_data = 'tweet_data_pre_processed.txt'"
      ],
      "execution_count": 0,
      "outputs": []
    },
    {
      "cell_type": "code",
      "metadata": {
        "id": "NAET5V_IdXGA",
        "colab_type": "code",
        "colab": {}
      },
      "source": [
        "labeled_tweets = []\n",
        "with open(path_data,'r', encoding='utf-8') as f:\n",
        "    for tweet in f:\n",
        "        t  = tweet.split(\" \")\n",
        "        labeled_tweets.append((t[0],\" \".join(t[1:])))\n",
        "shuffle(labeled_tweets)\n",
        "tweets = [x for _,x in labeled_tweets]\n",
        "labels = [y for y,_ in labeled_tweets]"
      ],
      "execution_count": 0,
      "outputs": []
    },
    {
      "cell_type": "code",
      "metadata": {
        "id": "vJE0HTMzddGP",
        "colab_type": "code",
        "outputId": "3c908b8f-6b21-4133-bb5f-be5af3c4cdd8",
        "colab": {
          "base_uri": "https://localhost:8080/",
          "height": 337
        }
      },
      "source": [
        "print('Generating cross-folds...')\n",
        "split_ratio = (0.8,0.1,0.1) #Train,Dev,Test\n",
        "cross_folds = int((1-split_ratio[0])**(-1))\n",
        "print(f'Using {cross_folds} crossfolds...')\n",
        "assert sum(split_ratio) == 1\n",
        "cross_fold_items = []\n",
        "print('Training classifiers...')\n",
        "for i in range(cross_folds):\n",
        "    size = len(tweets)\n",
        "    k1 = i*int(size*split_ratio[1])\n",
        "    k2 = k1+int(size*split_ratio[1])\n",
        "    k3 = k2+int(size*split_ratio[2])\n",
        "\n",
        "    trainD = tweets[k3:] + tweets[:k1]\n",
        "    testD = tweets[k1:k2]\n",
        "    devD = tweets[k2:k3]\n",
        "    print('Generating training data...')\n",
        "    training_data = trainD\n",
        "    training_labels = np.hstack(label for label in labels[k3:] + labels[:k1])\n",
        "    print('Generating test data...')\n",
        "    test_data = testD\n",
        "    test_labels = np.hstack(label for label in labels[k1:k2])\n",
        "    print('Generating dev data...')\n",
        "    dev_data = devD\n",
        "    dev_labels = np.hstack(label for label in labels[k2:k3])\n",
        "    cross_fold_items.append((training_data,training_labels,test_data,test_labels,dev_data,dev_labels))\n",
        "    assert len(test_data) + len(training_data) + len(dev_data) == size"
      ],
      "execution_count": 0,
      "outputs": [
        {
          "output_type": "stream",
          "text": [
            "Generating cross-folds...\n",
            "Using 5 crossfolds...\n",
            "Training classifiers...\n",
            "Generating training data...\n",
            "Generating test data...\n",
            "Generating dev data...\n",
            "Generating training data...\n",
            "Generating test data...\n",
            "Generating dev data...\n",
            "Generating training data...\n",
            "Generating test data...\n",
            "Generating dev data...\n",
            "Generating training data...\n",
            "Generating test data...\n",
            "Generating dev data...\n",
            "Generating training data...\n",
            "Generating test data...\n",
            "Generating dev data...\n"
          ],
          "name": "stdout"
        }
      ]
    },
    {
      "cell_type": "code",
      "metadata": {
        "id": "_u7Bn68Ddlwr",
        "colab_type": "code",
        "outputId": "b15277b2-7833-41e2-a175-26b7ae8cb138",
        "colab": {
          "base_uri": "https://localhost:8080/",
          "height": 872
        }
      },
      "source": [
        "import numpy as np\n",
        "print('Classifiers...')\n",
        "lossT, accT, f1T, precT, recT = 0,0,0,0,0\n",
        "res = np.zeros([5,5])\n",
        "for i in range(cross_folds):\n",
        "    print('#'*35)\n",
        "    training_data,training_labels,test_data,test_labels,dev_data,dev_labels = cross_fold_items[i]\n",
        "    loss, acc, f1, prec, rec = m1(training_data,training_labels,dev_data,dev_labels,test_data,test_labels, epochs=20, verbose=0)\n",
        "    res[i,:] = [loss, acc, f1, prec, rec]"
      ],
      "execution_count": 0,
      "outputs": [
        {
          "output_type": "stream",
          "text": [
            "Classifiers...\n",
            "###################################\n",
            "WARNING:tensorflow:From /usr/local/lib/python3.6/dist-packages/keras/backend/tensorflow_backend.py:190: The name tf.get_default_session is deprecated. Please use tf.compat.v1.get_default_session instead.\n",
            "\n",
            "WARNING:tensorflow:From /usr/local/lib/python3.6/dist-packages/keras/backend/tensorflow_backend.py:197: The name tf.ConfigProto is deprecated. Please use tf.compat.v1.ConfigProto instead.\n",
            "\n",
            "WARNING:tensorflow:From /usr/local/lib/python3.6/dist-packages/keras/backend/tensorflow_backend.py:203: The name tf.Session is deprecated. Please use tf.compat.v1.Session instead.\n",
            "\n",
            "WARNING:tensorflow:From /usr/local/lib/python3.6/dist-packages/keras/backend/tensorflow_backend.py:207: The name tf.global_variables is deprecated. Please use tf.compat.v1.global_variables instead.\n",
            "\n",
            "WARNING:tensorflow:From /usr/local/lib/python3.6/dist-packages/keras/backend/tensorflow_backend.py:66: The name tf.get_default_graph is deprecated. Please use tf.compat.v1.get_default_graph instead.\n",
            "\n",
            "WARNING:tensorflow:From /usr/local/lib/python3.6/dist-packages/keras/backend/tensorflow_backend.py:541: The name tf.placeholder is deprecated. Please use tf.compat.v1.placeholder instead.\n",
            "\n",
            "WARNING:tensorflow:From /usr/local/lib/python3.6/dist-packages/keras/backend/tensorflow_backend.py:4432: The name tf.random_uniform is deprecated. Please use tf.random.uniform instead.\n",
            "\n",
            "WARNING:tensorflow:From /usr/local/lib/python3.6/dist-packages/keras/backend/tensorflow_backend.py:4267: The name tf.nn.max_pool is deprecated. Please use tf.nn.max_pool2d instead.\n",
            "\n",
            "WARNING:tensorflow:From /usr/local/lib/python3.6/dist-packages/keras/backend/tensorflow_backend.py:148: The name tf.placeholder_with_default is deprecated. Please use tf.compat.v1.placeholder_with_default instead.\n",
            "\n",
            "WARNING:tensorflow:From /usr/local/lib/python3.6/dist-packages/keras/backend/tensorflow_backend.py:3733: calling dropout (from tensorflow.python.ops.nn_ops) with keep_prob is deprecated and will be removed in a future version.\n",
            "Instructions for updating:\n",
            "Please use `rate` instead of `keep_prob`. Rate should be set to `rate = 1 - keep_prob`.\n",
            "WARNING:tensorflow:From /usr/local/lib/python3.6/dist-packages/keras/optimizers.py:793: The name tf.train.Optimizer is deprecated. Please use tf.compat.v1.train.Optimizer instead.\n",
            "\n",
            "WARNING:tensorflow:From /content/sentimentAnalysis/CNNLSTM.py:88: The name tf.is_nan is deprecated. Please use tf.math.is_nan instead.\n",
            "\n",
            "WARNING:tensorflow:From /content/sentimentAnalysis/CNNLSTM.py:88: where (from tensorflow.python.ops.array_ops) is deprecated and will be removed in a future version.\n",
            "Instructions for updating:\n",
            "Use tf.where in 2.0, which has the same broadcast rule as np.where\n",
            "WARNING:tensorflow:From /usr/local/lib/python3.6/dist-packages/keras/backend/tensorflow_backend.py:1033: The name tf.assign_add is deprecated. Please use tf.compat.v1.assign_add instead.\n",
            "\n",
            "WARNING:tensorflow:From /usr/local/lib/python3.6/dist-packages/keras/backend/tensorflow_backend.py:1020: The name tf.assign is deprecated. Please use tf.compat.v1.assign instead.\n",
            "\n",
            "WARNING:tensorflow:From /usr/local/lib/python3.6/dist-packages/keras/backend/tensorflow_backend.py:216: The name tf.is_variable_initialized is deprecated. Please use tf.compat.v1.is_variable_initialized instead.\n",
            "\n",
            "WARNING:tensorflow:From /usr/local/lib/python3.6/dist-packages/keras/backend/tensorflow_backend.py:223: The name tf.variables_initializer is deprecated. Please use tf.compat.v1.variables_initializer instead.\n",
            "\n",
            "5033/5033 [==============================] - 1s 222us/step\n",
            "###################################\n",
            "5033/5033 [==============================] - 2s 314us/step\n",
            "###################################\n",
            "5033/5033 [==============================] - 2s 427us/step\n",
            "###################################\n",
            "5033/5033 [==============================] - 3s 509us/step\n",
            "###################################\n",
            "5033/5033 [==============================] - 3s 603us/step\n"
          ],
          "name": "stdout"
        }
      ]
    },
    {
      "cell_type": "code",
      "metadata": {
        "id": "Mdxjwg_6QQ10",
        "colab_type": "code",
        "outputId": "b89ceec6-c62f-4ef7-a963-88fb2d4b7a10",
        "colab": {
          "base_uri": "https://localhost:8080/",
          "height": 194
        }
      },
      "source": [
        "import pandas as pd\n",
        "\n",
        "res_df = pd.DataFrame(data=np.round(res,3),columns=['loss','accuracy','f1_score','precision','recall'])\n",
        "res_df"
      ],
      "execution_count": 0,
      "outputs": [
        {
          "output_type": "execute_result",
          "data": {
            "text/html": [
              "<div>\n",
              "<style scoped>\n",
              "    .dataframe tbody tr th:only-of-type {\n",
              "        vertical-align: middle;\n",
              "    }\n",
              "\n",
              "    .dataframe tbody tr th {\n",
              "        vertical-align: top;\n",
              "    }\n",
              "\n",
              "    .dataframe thead th {\n",
              "        text-align: right;\n",
              "    }\n",
              "</style>\n",
              "<table border=\"1\" class=\"dataframe\">\n",
              "  <thead>\n",
              "    <tr style=\"text-align: right;\">\n",
              "      <th></th>\n",
              "      <th>loss</th>\n",
              "      <th>accuracy</th>\n",
              "      <th>f1_score</th>\n",
              "      <th>precision</th>\n",
              "      <th>recall</th>\n",
              "    </tr>\n",
              "  </thead>\n",
              "  <tbody>\n",
              "    <tr>\n",
              "      <th>0</th>\n",
              "      <td>0.440</td>\n",
              "      <td>0.615</td>\n",
              "      <td>0.615</td>\n",
              "      <td>0.615</td>\n",
              "      <td>0.615</td>\n",
              "    </tr>\n",
              "    <tr>\n",
              "      <th>1</th>\n",
              "      <td>0.414</td>\n",
              "      <td>0.625</td>\n",
              "      <td>0.625</td>\n",
              "      <td>0.625</td>\n",
              "      <td>0.625</td>\n",
              "    </tr>\n",
              "    <tr>\n",
              "      <th>2</th>\n",
              "      <td>0.423</td>\n",
              "      <td>0.621</td>\n",
              "      <td>0.621</td>\n",
              "      <td>0.621</td>\n",
              "      <td>0.621</td>\n",
              "    </tr>\n",
              "    <tr>\n",
              "      <th>3</th>\n",
              "      <td>0.432</td>\n",
              "      <td>0.624</td>\n",
              "      <td>0.624</td>\n",
              "      <td>0.624</td>\n",
              "      <td>0.624</td>\n",
              "    </tr>\n",
              "    <tr>\n",
              "      <th>4</th>\n",
              "      <td>0.449</td>\n",
              "      <td>0.588</td>\n",
              "      <td>0.588</td>\n",
              "      <td>0.588</td>\n",
              "      <td>0.588</td>\n",
              "    </tr>\n",
              "  </tbody>\n",
              "</table>\n",
              "</div>"
            ],
            "text/plain": [
              "    loss  accuracy  f1_score  precision  recall\n",
              "0  0.440     0.615     0.615      0.615   0.615\n",
              "1  0.414     0.625     0.625      0.625   0.625\n",
              "2  0.423     0.621     0.621      0.621   0.621\n",
              "3  0.432     0.624     0.624      0.624   0.624\n",
              "4  0.449     0.588     0.588      0.588   0.588"
            ]
          },
          "metadata": {
            "tags": []
          },
          "execution_count": 8
        }
      ]
    },
    {
      "cell_type": "code",
      "metadata": {
        "id": "nxFiITZPoo-P",
        "colab_type": "code",
        "outputId": "f4892793-b1ff-40f2-f17e-483ddf427646",
        "colab": {
          "base_uri": "https://localhost:8080/",
          "height": 248
        }
      },
      "source": [
        "print(res_df.mean())\n",
        "print()\n",
        "print(res_df.std())"
      ],
      "execution_count": 0,
      "outputs": [
        {
          "output_type": "stream",
          "text": [
            "loss         0.4316\n",
            "accuracy     0.6146\n",
            "f1_score     0.6146\n",
            "precision    0.6146\n",
            "recall       0.6146\n",
            "dtype: float64\n",
            "\n",
            "loss         0.013759\n",
            "accuracy     0.015372\n",
            "f1_score     0.015372\n",
            "precision    0.015372\n",
            "recall       0.015372\n",
            "dtype: float64\n"
          ],
          "name": "stdout"
        }
      ]
    }
  ]
}